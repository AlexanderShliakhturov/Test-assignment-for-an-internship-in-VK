{
 "cells": [
  {
   "cell_type": "code",
   "execution_count": 55,
   "id": "932ac689-0b78-4f74-89a0-8012e4d46461",
   "metadata": {},
   "outputs": [],
   "source": [
    "import pandas as pd \n",
    "import numpy as np \n",
    "from numpy.fft import fft\n",
    "import matplotlib.pyplot as plt\n",
    "import fastparquet\n",
    "import seaborn as sns\n",
    "from statsmodels.tsa.stattools import acf, pacf\n",
    "from statsmodels.graphics.tsaplots import plot_acf\n",
    "from scipy.stats import skew\n",
    "from scipy.stats import linregress\n",
    "from statsmodels.tsa.ar_model import AutoReg\n",
    "from scipy.signal import find_peaks\n",
    "from scipy.stats import entropy\n",
    "import joblib\n",
    "\n",
    "from numpy.linalg import svd\n",
    "from sklearn.decomposition import PCA\n",
    "from sklearn.preprocessing import StandardScaler\n",
    "from sklearn.model_selection import train_test_split\n",
    "from sklearn.model_selection import GridSearchCV\n",
    "from sklearn.metrics import roc_auc_score\n",
    "from sklearn.metrics import confusion_matrix, accuracy_score\n",
    "from sklearn.ensemble import RandomForestClassifier\n",
    "\n",
    "\n",
    "from xgboost import plot_importance, XGBClassifier\n",
    "from tqdm import tqdm\n",
    "from sklearn.svm import SVC"
   ]
  },
  {
   "cell_type": "code",
   "execution_count": null,
   "id": "1a912d7a-c9d8-4e3c-955d-f6899aee2869",
   "metadata": {},
   "outputs": [],
   "source": []
  },
  {
   "cell_type": "markdown",
   "id": "bcf0a727-8aa6-4362-9df1-1daeaeddda76",
   "metadata": {},
   "source": [
    "**Загрузим данные**"
   ]
  },
  {
   "cell_type": "code",
   "execution_count": 2,
   "id": "bb7b5fc9-6731-4223-8875-e27bda647c30",
   "metadata": {},
   "outputs": [],
   "source": [
    "feachures_scaled = pd.read_csv('data/feachures_scaled.csv')\n",
    "target = pd.read_csv('data/target.csv')"
   ]
  },
  {
   "cell_type": "code",
   "execution_count": null,
   "id": "a899dc53-dfd0-41d8-9a7c-6e8d222500e7",
   "metadata": {},
   "outputs": [],
   "source": []
  },
  {
   "cell_type": "markdown",
   "id": "547650dd-d1ee-4adb-9288-f252af071294",
   "metadata": {},
   "source": [
    "**Разделим на тренировочную и тестовую выборку**"
   ]
  },
  {
   "cell_type": "code",
   "execution_count": 52,
   "id": "810c081f-8072-4471-a8cf-05ef98cccb05",
   "metadata": {},
   "outputs": [],
   "source": [
    "X_train, X_test, y_train, y_test = train_test_split(feachures_scaled, target['label'], test_size=0.3, random_state=42, stratify=target)"
   ]
  },
  {
   "cell_type": "code",
   "execution_count": null,
   "id": "c2e203f5-3276-472f-a1b6-65f883ad815c",
   "metadata": {},
   "outputs": [],
   "source": []
  },
  {
   "cell_type": "markdown",
   "id": "28e53d0f-6625-46d6-a788-f5ed7f502425",
   "metadata": {},
   "source": [
    "**Обучим RandomForest**"
   ]
  },
  {
   "cell_type": "markdown",
   "id": "35b6dddb-aabd-4fff-b8bc-e3ba1cf7d6e2",
   "metadata": {},
   "source": [
    "До этого были проведены эксперименты по выбору лучшей модели и гиперпараметров для каждой из пробуемых моделей. Были обучены градиентные бустинги `LightGBM` и `XGBoost`, `логистическая легрессия`, `SVC` алгоритм и `random forest`. Метрикой для оценки качества алгоритма была выбрана AUC ROC.\n",
    "\n",
    "По результатам экспериментов самое высокое значение метрики получилось при использовании алгоритма `RandomForestClassifier` со следующими гиперпараметрами:\n",
    "\n",
    "    bootstrap = True - каждое дерево строится на бутстрапированных выборках из данных\n",
    "    class_weight= 'balanced' - случайный лес обучается с поправками на возможный дисбаланс классов, придавая веса меньшему классу\n",
    "    n_estimators = 500 - в лесе 500 деревьев, ответы которых будут усредняться\n",
    "    max_depth = 50 - максимальная глубина отдельного дерева не привышает 50\n",
    "    max_features = 'sqrt' - каждый раз дерево строится на случайной подвыборке из признакового пространства (RSM). Берется корень из числа признаков\n",
    "    min_samples_leaf = 15 - минимальное число элементов для создания отдельного листа\n",
    "    min_samples_split = 25 - минимальное число элементов в ноде дерева, чтобы сделать сплит по этой ноде\n",
    "\n",
    "При таких гиперпараметрах достигается значение метрики AUC ROC около 0.8"
   ]
  },
  {
   "cell_type": "code",
   "execution_count": 53,
   "id": "06e922a3-ab15-4524-8656-2c06fb26d3d7",
   "metadata": {},
   "outputs": [
    {
     "name": "stdout",
     "output_type": "stream",
     "text": [
      "CPU times: user 1min 52s, sys: 9.99 ms, total: 1min 52s\n",
      "Wall time: 1min 52s\n"
     ]
    },
    {
     "data": {
      "text/plain": [
       "0.7962992366947139"
      ]
     },
     "execution_count": 53,
     "metadata": {},
     "output_type": "execute_result"
    }
   ],
   "source": [
    "%%time\n",
    "\n",
    "rf_model = RandomForestClassifier(random_state=2, bootstrap= True, \n",
    "                                  class_weight= 'balanced', n_estimators = 500, max_depth = 50, \n",
    "                                  max_features = 'sqrt', min_samples_leaf = 15, min_samples_split = 25 )\n",
    "\n",
    "\n",
    "rf_model.fit(X_train, y_train)\n",
    "\n",
    "y_pred_rf = rf_model.predict(X_test)\n",
    "roc_auc_score(y_test, y_pred_rf)\n"
   ]
  },
  {
   "cell_type": "code",
   "execution_count": null,
   "id": "472e9524-9eda-435a-ae41-462757cc8997",
   "metadata": {},
   "outputs": [],
   "source": []
  },
  {
   "cell_type": "code",
   "execution_count": 54,
   "id": "22ca6cc9-1a42-46bc-9e2c-30327d83763f",
   "metadata": {},
   "outputs": [
    {
     "data": {
      "image/png": "[encoded data removed]",
      "text/plain": [
       "<Figure size 600x400 with 2 Axes>"
      ]
     },
     "metadata": {},
     "output_type": "display_data"
    }
   ],
   "source": [
    "cm = confusion_matrix(y_test, y_pred_rf)\n",
    "\n",
    "cm_df = pd.DataFrame(cm, index=['Actual 0', 'Actual 1'], columns=['Predicted 0', 'Predicted 1'])\n",
    "\n",
    "plt.figure(figsize=(6,4))\n",
    "sns.heatmap(cm_df, annot=True, fmt=\"d\", cmap=\"Blues\")\n",
    "plt.title('Confusion Matrix')\n",
    "plt.ylabel('Actual Class')\n",
    "plt.xlabel('Predicted Class')\n",
    "plt.show()"
   ]
  },
  {
   "cell_type": "code",
   "execution_count": null,
   "id": "78ecfc31-88b0-4b09-b488-37c758e45fa4",
   "metadata": {},
   "outputs": [],
   "source": []
  },
  {
   "cell_type": "markdown",
   "id": "417dfd4e-8b78-4f57-aaa1-f598c7b622b0",
   "metadata": {},
   "source": [
    "**Запишем обученную модель в файл `random_forest_model.joblib`**"
   ]
  },
  {
   "cell_type": "code",
   "execution_count": 56,
   "id": "845eb603-7eec-4c9a-83cf-13ccc95c5e2e",
   "metadata": {},
   "outputs": [
    {
     "data": {
      "text/plain": [
       "['random_forest_model.joblib']"
      ]
     },
     "execution_count": 56,
     "metadata": {},
     "output_type": "execute_result"
    }
   ],
   "source": [
    "joblib.dump(rf_model, 'data/random_forest_model.joblib')"
   ]
  },
  {
   "cell_type": "code",
   "execution_count": null,
   "id": "8156ed31-efd7-4de3-979a-79b5e45bb586",
   "metadata": {},
   "outputs": [],
   "source": []
  }
 ],
 "metadata": {
  "kernelspec": {
   "display_name": "Python 3 (ipykernel)",
   "language": "python",
   "name": "python3"
  },
  "language_info": {
   "codemirror_mode": {
    "name": "ipython",
    "version": 3
   },
   "file_extension": ".py",
   "mimetype": "text/x-python",
   "name": "python",
   "nbconvert_exporter": "python",
   "pygments_lexer": "ipython3",
   "version": "3.8.10"
  }
 },
 "nbformat": 4,
 "nbformat_minor": 5
}
